{
 "cells": [
  {
   "cell_type": "code",
   "execution_count": 111,
   "id": "4085d96e-de4f-485b-b607-8cb4f22c3d5a",
   "metadata": {},
   "outputs": [],
   "source": [
    "import numpy as np\n",
    "import pandas as pd\n",
    "import matplotlib.pyplot as plt\n",
    "import seaborn as sns\n",
    "\n",
    "%config InlineBacked.figure_format = 'retina'"
   ]
  },
  {
   "cell_type": "code",
   "execution_count": 112,
   "id": "f4654d5b-7104-4688-b972-c7e4a0718d98",
   "metadata": {},
   "outputs": [
    {
     "data": {
      "text/html": [
       "<div>\n",
       "<style scoped>\n",
       "    .dataframe tbody tr th:only-of-type {\n",
       "        vertical-align: middle;\n",
       "    }\n",
       "\n",
       "    .dataframe tbody tr th {\n",
       "        vertical-align: top;\n",
       "    }\n",
       "\n",
       "    .dataframe thead th {\n",
       "        text-align: right;\n",
       "    }\n",
       "</style>\n",
       "<table border=\"1\" class=\"dataframe\">\n",
       "  <thead>\n",
       "    <tr style=\"text-align: right;\">\n",
       "      <th></th>\n",
       "      <th>Month</th>\n",
       "      <th>Accidental deaths in USA: monthly, 1973 ? 1978</th>\n",
       "    </tr>\n",
       "  </thead>\n",
       "  <tbody>\n",
       "    <tr>\n",
       "      <th>0</th>\n",
       "      <td>1973-01</td>\n",
       "      <td>9007</td>\n",
       "    </tr>\n",
       "    <tr>\n",
       "      <th>1</th>\n",
       "      <td>1973-02</td>\n",
       "      <td>8106</td>\n",
       "    </tr>\n",
       "    <tr>\n",
       "      <th>2</th>\n",
       "      <td>1973-03</td>\n",
       "      <td>8928</td>\n",
       "    </tr>\n",
       "    <tr>\n",
       "      <th>3</th>\n",
       "      <td>1973-04</td>\n",
       "      <td>9137</td>\n",
       "    </tr>\n",
       "    <tr>\n",
       "      <th>4</th>\n",
       "      <td>1973-05</td>\n",
       "      <td>10017</td>\n",
       "    </tr>\n",
       "  </tbody>\n",
       "</table>\n",
       "</div>"
      ],
      "text/plain": [
       "     Month  Accidental deaths in USA: monthly, 1973 ? 1978\n",
       "0  1973-01                                            9007\n",
       "1  1973-02                                            8106\n",
       "2  1973-03                                            8928\n",
       "3  1973-04                                            9137\n",
       "4  1973-05                                           10017"
      ]
     },
     "execution_count": 112,
     "metadata": {},
     "output_type": "execute_result"
    }
   ],
   "source": [
    "df = pd.read_csv('accidental-deaths-in-usa-monthly.csv')\n",
    "df.head()"
   ]
  },
  {
   "cell_type": "code",
   "execution_count": 113,
   "id": "590ad4c1-68cf-4d2f-b202-17f197fb8b21",
   "metadata": {},
   "outputs": [
    {
     "data": {
      "text/plain": [
       "Index(['Month', 'Accidental deaths in USA: monthly, 1973 ? 1978'], dtype='object')"
      ]
     },
     "execution_count": 113,
     "metadata": {},
     "output_type": "execute_result"
    }
   ],
   "source": [
    "df.columns"
   ]
  },
  {
   "cell_type": "code",
   "execution_count": 114,
   "id": "ca2dfdc9-00f1-44ae-91ad-5b7d2d978162",
   "metadata": {},
   "outputs": [],
   "source": [
    "# splitting column 'month' into 'year' and 'month'\n",
    "df = pd.concat([df['Month'].str.split('-', expand=True), df], axis=1)"
   ]
  },
  {
   "cell_type": "code",
   "execution_count": 115,
   "id": "81593f70-8e22-4186-ba78-58d338b43028",
   "metadata": {},
   "outputs": [
    {
     "data": {
      "text/html": [
       "<div>\n",
       "<style scoped>\n",
       "    .dataframe tbody tr th:only-of-type {\n",
       "        vertical-align: middle;\n",
       "    }\n",
       "\n",
       "    .dataframe tbody tr th {\n",
       "        vertical-align: top;\n",
       "    }\n",
       "\n",
       "    .dataframe thead th {\n",
       "        text-align: right;\n",
       "    }\n",
       "</style>\n",
       "<table border=\"1\" class=\"dataframe\">\n",
       "  <thead>\n",
       "    <tr style=\"text-align: right;\">\n",
       "      <th></th>\n",
       "      <th>0</th>\n",
       "      <th>1</th>\n",
       "      <th>Month</th>\n",
       "      <th>Accidental deaths in USA: monthly, 1973 ? 1978</th>\n",
       "    </tr>\n",
       "  </thead>\n",
       "  <tbody>\n",
       "    <tr>\n",
       "      <th>0</th>\n",
       "      <td>1973</td>\n",
       "      <td>01</td>\n",
       "      <td>1973-01</td>\n",
       "      <td>9007</td>\n",
       "    </tr>\n",
       "    <tr>\n",
       "      <th>1</th>\n",
       "      <td>1973</td>\n",
       "      <td>02</td>\n",
       "      <td>1973-02</td>\n",
       "      <td>8106</td>\n",
       "    </tr>\n",
       "    <tr>\n",
       "      <th>2</th>\n",
       "      <td>1973</td>\n",
       "      <td>03</td>\n",
       "      <td>1973-03</td>\n",
       "      <td>8928</td>\n",
       "    </tr>\n",
       "    <tr>\n",
       "      <th>3</th>\n",
       "      <td>1973</td>\n",
       "      <td>04</td>\n",
       "      <td>1973-04</td>\n",
       "      <td>9137</td>\n",
       "    </tr>\n",
       "    <tr>\n",
       "      <th>4</th>\n",
       "      <td>1973</td>\n",
       "      <td>05</td>\n",
       "      <td>1973-05</td>\n",
       "      <td>10017</td>\n",
       "    </tr>\n",
       "  </tbody>\n",
       "</table>\n",
       "</div>"
      ],
      "text/plain": [
       "      0   1    Month  Accidental deaths in USA: monthly, 1973 ? 1978\n",
       "0  1973  01  1973-01                                            9007\n",
       "1  1973  02  1973-02                                            8106\n",
       "2  1973  03  1973-03                                            8928\n",
       "3  1973  04  1973-04                                            9137\n",
       "4  1973  05  1973-05                                           10017"
      ]
     },
     "execution_count": 115,
     "metadata": {},
     "output_type": "execute_result"
    }
   ],
   "source": [
    "df.head()"
   ]
  },
  {
   "cell_type": "code",
   "execution_count": 116,
   "id": "65296310-0f28-4dcb-b215-8a5d4041967e",
   "metadata": {},
   "outputs": [
    {
     "data": {
      "text/html": [
       "<div>\n",
       "<style scoped>\n",
       "    .dataframe tbody tr th:only-of-type {\n",
       "        vertical-align: middle;\n",
       "    }\n",
       "\n",
       "    .dataframe tbody tr th {\n",
       "        vertical-align: top;\n",
       "    }\n",
       "\n",
       "    .dataframe thead th {\n",
       "        text-align: right;\n",
       "    }\n",
       "</style>\n",
       "<table border=\"1\" class=\"dataframe\">\n",
       "  <thead>\n",
       "    <tr style=\"text-align: right;\">\n",
       "      <th></th>\n",
       "      <th>Year</th>\n",
       "      <th>Month</th>\n",
       "      <th>Accident Deaths</th>\n",
       "    </tr>\n",
       "  </thead>\n",
       "  <tbody>\n",
       "    <tr>\n",
       "      <th>0</th>\n",
       "      <td>1973</td>\n",
       "      <td>01</td>\n",
       "      <td>9007</td>\n",
       "    </tr>\n",
       "    <tr>\n",
       "      <th>1</th>\n",
       "      <td>1973</td>\n",
       "      <td>02</td>\n",
       "      <td>8106</td>\n",
       "    </tr>\n",
       "    <tr>\n",
       "      <th>2</th>\n",
       "      <td>1973</td>\n",
       "      <td>03</td>\n",
       "      <td>8928</td>\n",
       "    </tr>\n",
       "    <tr>\n",
       "      <th>3</th>\n",
       "      <td>1973</td>\n",
       "      <td>04</td>\n",
       "      <td>9137</td>\n",
       "    </tr>\n",
       "    <tr>\n",
       "      <th>4</th>\n",
       "      <td>1973</td>\n",
       "      <td>05</td>\n",
       "      <td>10017</td>\n",
       "    </tr>\n",
       "  </tbody>\n",
       "</table>\n",
       "</div>"
      ],
      "text/plain": [
       "   Year Month  Accident Deaths\n",
       "0  1973    01             9007\n",
       "1  1973    02             8106\n",
       "2  1973    03             8928\n",
       "3  1973    04             9137\n",
       "4  1973    05            10017"
      ]
     },
     "execution_count": 116,
     "metadata": {},
     "output_type": "execute_result"
    }
   ],
   "source": [
    "df.drop(columns=['Month'], inplace=True)\n",
    "df.rename(columns={0: 'Year', 1: 'Month', 'Accidental deaths in USA: monthly, 1973 ? 1978': 'Accident Deaths'}, \n",
    "          inplace=True)\n",
    "df.head()"
   ]
  },
  {
   "cell_type": "code",
   "execution_count": 117,
   "id": "a482d76a-e424-4137-b626-7943d0e462e1",
   "metadata": {},
   "outputs": [
    {
     "data": {
      "text/html": [
       "<div>\n",
       "<style scoped>\n",
       "    .dataframe tbody tr th:only-of-type {\n",
       "        vertical-align: middle;\n",
       "    }\n",
       "\n",
       "    .dataframe tbody tr th {\n",
       "        vertical-align: top;\n",
       "    }\n",
       "\n",
       "    .dataframe thead th {\n",
       "        text-align: right;\n",
       "    }\n",
       "</style>\n",
       "<table border=\"1\" class=\"dataframe\">\n",
       "  <thead>\n",
       "    <tr style=\"text-align: right;\">\n",
       "      <th></th>\n",
       "      <th>Accident Deaths</th>\n",
       "    </tr>\n",
       "  </thead>\n",
       "  <tbody>\n",
       "    <tr>\n",
       "      <th>count</th>\n",
       "      <td>72.000000</td>\n",
       "    </tr>\n",
       "    <tr>\n",
       "      <th>mean</th>\n",
       "      <td>8787.736111</td>\n",
       "    </tr>\n",
       "    <tr>\n",
       "      <th>std</th>\n",
       "      <td>958.338013</td>\n",
       "    </tr>\n",
       "    <tr>\n",
       "      <th>min</th>\n",
       "      <td>6892.000000</td>\n",
       "    </tr>\n",
       "    <tr>\n",
       "      <th>25%</th>\n",
       "      <td>8089.000000</td>\n",
       "    </tr>\n",
       "    <tr>\n",
       "      <th>50%</th>\n",
       "      <td>8728.500000</td>\n",
       "    </tr>\n",
       "    <tr>\n",
       "      <th>75%</th>\n",
       "      <td>9323.250000</td>\n",
       "    </tr>\n",
       "    <tr>\n",
       "      <th>max</th>\n",
       "      <td>11317.000000</td>\n",
       "    </tr>\n",
       "  </tbody>\n",
       "</table>\n",
       "</div>"
      ],
      "text/plain": [
       "       Accident Deaths\n",
       "count        72.000000\n",
       "mean       8787.736111\n",
       "std         958.338013\n",
       "min        6892.000000\n",
       "25%        8089.000000\n",
       "50%        8728.500000\n",
       "75%        9323.250000\n",
       "max       11317.000000"
      ]
     },
     "execution_count": 117,
     "metadata": {},
     "output_type": "execute_result"
    }
   ],
   "source": [
    "df.describe()"
   ]
  },
  {
   "cell_type": "code",
   "execution_count": 118,
   "id": "770e7a77-bd70-4ca4-954a-6322c2442564",
   "metadata": {},
   "outputs": [
    {
     "data": {
      "text/plain": [
       "Year\n",
       "1973    115821\n",
       "1974    104622\n",
       "1975    103030\n",
       "1976    100761\n",
       "1977    102922\n",
       "1978    105561\n",
       "Name: Accident Deaths, dtype: int64"
      ]
     },
     "execution_count": 118,
     "metadata": {},
     "output_type": "execute_result"
    }
   ],
   "source": [
    "# accident deaths by year\n",
    "df.groupby('Year')['Accident Deaths'].sum()"
   ]
  },
  {
   "cell_type": "code",
   "execution_count": 119,
   "id": "e11eb050-1d6b-4819-800c-a6bb0a5f6daf",
   "metadata": {},
   "outputs": [
    {
     "data": {
      "text/plain": [
       "Text(0.5, 1.0, 'Total Accident Deaths each year 1973-1978')"
      ]
     },
     "execution_count": 119,
     "metadata": {},
     "output_type": "execute_result"
    },
    {
     "data": {
      "image/png": "[encoded data removed]",
      "text/plain": [
       "<Figure size 640x480 with 1 Axes>"
      ]
     },
     "metadata": {},
     "output_type": "display_data"
    }
   ],
   "source": [
    "# plotting line plot to see trend\n",
    "ax1 = df.groupby('Year')['Accident Deaths'].sum().plot(xlabel='Year')\n",
    "ax1.set_title('Total Accident Deaths each year 1973-1978')"
   ]
  },
  {
   "cell_type": "code",
   "execution_count": 120,
   "id": "6ed5711e-df99-4730-ac42-f2091ffab1f5",
   "metadata": {},
   "outputs": [
    {
     "data": {
      "text/html": [
       "<div>\n",
       "<style scoped>\n",
       "    .dataframe tbody tr th:only-of-type {\n",
       "        vertical-align: middle;\n",
       "    }\n",
       "\n",
       "    .dataframe tbody tr th {\n",
       "        vertical-align: top;\n",
       "    }\n",
       "\n",
       "    .dataframe thead th {\n",
       "        text-align: right;\n",
       "    }\n",
       "</style>\n",
       "<table border=\"1\" class=\"dataframe\">\n",
       "  <thead>\n",
       "    <tr style=\"text-align: right;\">\n",
       "      <th></th>\n",
       "      <th>Month</th>\n",
       "      <th>% of Year</th>\n",
       "    </tr>\n",
       "  </thead>\n",
       "  <tbody>\n",
       "    <tr>\n",
       "      <th>0</th>\n",
       "      <td>01</td>\n",
       "      <td>0.077767</td>\n",
       "    </tr>\n",
       "    <tr>\n",
       "      <th>1</th>\n",
       "      <td>02</td>\n",
       "      <td>0.069987</td>\n",
       "    </tr>\n",
       "    <tr>\n",
       "      <th>2</th>\n",
       "      <td>03</td>\n",
       "      <td>0.077084</td>\n",
       "    </tr>\n",
       "    <tr>\n",
       "      <th>3</th>\n",
       "      <td>04</td>\n",
       "      <td>0.078889</td>\n",
       "    </tr>\n",
       "    <tr>\n",
       "      <th>4</th>\n",
       "      <td>05</td>\n",
       "      <td>0.086487</td>\n",
       "    </tr>\n",
       "    <tr>\n",
       "      <th>5</th>\n",
       "      <td>06</td>\n",
       "      <td>0.093472</td>\n",
       "    </tr>\n",
       "    <tr>\n",
       "      <th>6</th>\n",
       "      <td>07</td>\n",
       "      <td>0.097711</td>\n",
       "    </tr>\n",
       "    <tr>\n",
       "      <th>7</th>\n",
       "      <td>08</td>\n",
       "      <td>0.092764</td>\n",
       "    </tr>\n",
       "    <tr>\n",
       "      <th>8</th>\n",
       "      <td>09</td>\n",
       "      <td>0.083862</td>\n",
       "    </tr>\n",
       "    <tr>\n",
       "      <th>9</th>\n",
       "      <td>10</td>\n",
       "      <td>0.085805</td>\n",
       "    </tr>\n",
       "    <tr>\n",
       "      <th>10</th>\n",
       "      <td>11</td>\n",
       "      <td>0.079096</td>\n",
       "    </tr>\n",
       "    <tr>\n",
       "      <th>11</th>\n",
       "      <td>12</td>\n",
       "      <td>0.077076</td>\n",
       "    </tr>\n",
       "  </tbody>\n",
       "</table>\n",
       "</div>"
      ],
      "text/plain": [
       "   Month  % of Year\n",
       "0     01   0.077767\n",
       "1     02   0.069987\n",
       "2     03   0.077084\n",
       "3     04   0.078889\n",
       "4     05   0.086487\n",
       "5     06   0.093472\n",
       "6     07   0.097711\n",
       "7     08   0.092764\n",
       "8     09   0.083862\n",
       "9     10   0.085805\n",
       "10    11   0.079096\n",
       "11    12   0.077076"
      ]
     },
     "execution_count": 120,
     "metadata": {},
     "output_type": "execute_result"
    }
   ],
   "source": [
    "# in 1973, there were a lot of accident deaths, checking monthly contribution\n",
    "df_1973 = df.loc[df['Year']=='1973'].reset_index(drop=True)\n",
    "df_1973['% of Year'] = df_1973['Accident Deaths']/df_1973['Accident Deaths'].sum()\n",
    "df_1973[['Month', '% of Year']]"
   ]
  },
  {
   "cell_type": "code",
   "execution_count": 121,
   "id": "bdbdf627-c9cd-461e-bcbd-8a0fc9cff0ba",
   "metadata": {},
   "outputs": [
    {
     "data": {
      "text/html": [
       "<div>\n",
       "<style scoped>\n",
       "    .dataframe tbody tr th:only-of-type {\n",
       "        vertical-align: middle;\n",
       "    }\n",
       "\n",
       "    .dataframe tbody tr th {\n",
       "        vertical-align: top;\n",
       "    }\n",
       "\n",
       "    .dataframe thead th {\n",
       "        text-align: right;\n",
       "    }\n",
       "</style>\n",
       "<table border=\"1\" class=\"dataframe\">\n",
       "  <thead>\n",
       "    <tr style=\"text-align: right;\">\n",
       "      <th></th>\n",
       "      <th>Year</th>\n",
       "      <th>Accident Deaths</th>\n",
       "    </tr>\n",
       "  </thead>\n",
       "  <tbody>\n",
       "    <tr>\n",
       "      <th>0</th>\n",
       "      <td>1973</td>\n",
       "      <td>115821</td>\n",
       "    </tr>\n",
       "    <tr>\n",
       "      <th>1</th>\n",
       "      <td>1974</td>\n",
       "      <td>104622</td>\n",
       "    </tr>\n",
       "    <tr>\n",
       "      <th>2</th>\n",
       "      <td>1975</td>\n",
       "      <td>103030</td>\n",
       "    </tr>\n",
       "    <tr>\n",
       "      <th>3</th>\n",
       "      <td>1976</td>\n",
       "      <td>100761</td>\n",
       "    </tr>\n",
       "    <tr>\n",
       "      <th>4</th>\n",
       "      <td>1977</td>\n",
       "      <td>102922</td>\n",
       "    </tr>\n",
       "    <tr>\n",
       "      <th>5</th>\n",
       "      <td>1978</td>\n",
       "      <td>105561</td>\n",
       "    </tr>\n",
       "  </tbody>\n",
       "</table>\n",
       "</div>"
      ],
      "text/plain": [
       "   Year  Accident Deaths\n",
       "0  1973           115821\n",
       "1  1974           104622\n",
       "2  1975           103030\n",
       "3  1976           100761\n",
       "4  1977           102922\n",
       "5  1978           105561"
      ]
     },
     "execution_count": 121,
     "metadata": {},
     "output_type": "execute_result"
    }
   ],
   "source": [
    "# checking YoY Accident Deaths\n",
    "df_year = df.groupby('Year')['Accident Deaths'].sum().reset_index()\n",
    "df_year"
   ]
  },
  {
   "cell_type": "code",
   "execution_count": 122,
   "id": "04a5b081-1215-4c22-9d04-aa2d4101147f",
   "metadata": {},
   "outputs": [
    {
     "data": {
      "text/html": [
       "<div>\n",
       "<style scoped>\n",
       "    .dataframe tbody tr th:only-of-type {\n",
       "        vertical-align: middle;\n",
       "    }\n",
       "\n",
       "    .dataframe tbody tr th {\n",
       "        vertical-align: top;\n",
       "    }\n",
       "\n",
       "    .dataframe thead th {\n",
       "        text-align: right;\n",
       "    }\n",
       "</style>\n",
       "<table border=\"1\" class=\"dataframe\">\n",
       "  <thead>\n",
       "    <tr style=\"text-align: right;\">\n",
       "      <th></th>\n",
       "      <th>Year</th>\n",
       "      <th>Accident Deaths</th>\n",
       "      <th>Previous Year</th>\n",
       "    </tr>\n",
       "  </thead>\n",
       "  <tbody>\n",
       "    <tr>\n",
       "      <th>0</th>\n",
       "      <td>1973</td>\n",
       "      <td>115821</td>\n",
       "      <td>NaN</td>\n",
       "    </tr>\n",
       "    <tr>\n",
       "      <th>1</th>\n",
       "      <td>1974</td>\n",
       "      <td>104622</td>\n",
       "      <td>115821.0</td>\n",
       "    </tr>\n",
       "    <tr>\n",
       "      <th>2</th>\n",
       "      <td>1975</td>\n",
       "      <td>103030</td>\n",
       "      <td>104622.0</td>\n",
       "    </tr>\n",
       "    <tr>\n",
       "      <th>3</th>\n",
       "      <td>1976</td>\n",
       "      <td>100761</td>\n",
       "      <td>103030.0</td>\n",
       "    </tr>\n",
       "    <tr>\n",
       "      <th>4</th>\n",
       "      <td>1977</td>\n",
       "      <td>102922</td>\n",
       "      <td>100761.0</td>\n",
       "    </tr>\n",
       "    <tr>\n",
       "      <th>5</th>\n",
       "      <td>1978</td>\n",
       "      <td>105561</td>\n",
       "      <td>102922.0</td>\n",
       "    </tr>\n",
       "  </tbody>\n",
       "</table>\n",
       "</div>"
      ],
      "text/plain": [
       "   Year  Accident Deaths  Previous Year\n",
       "0  1973           115821            NaN\n",
       "1  1974           104622       115821.0\n",
       "2  1975           103030       104622.0\n",
       "3  1976           100761       103030.0\n",
       "4  1977           102922       100761.0\n",
       "5  1978           105561       102922.0"
      ]
     },
     "execution_count": 122,
     "metadata": {},
     "output_type": "execute_result"
    }
   ],
   "source": [
    "df_year['Previous Year'] = df_year['Accident Deaths'].shift()\n",
    "df_year"
   ]
  },
  {
   "cell_type": "code",
   "execution_count": 123,
   "id": "62ec5a40-9870-4375-936c-5817bedeb5b2",
   "metadata": {},
   "outputs": [
    {
     "data": {
      "text/html": [
       "<div>\n",
       "<style scoped>\n",
       "    .dataframe tbody tr th:only-of-type {\n",
       "        vertical-align: middle;\n",
       "    }\n",
       "\n",
       "    .dataframe tbody tr th {\n",
       "        vertical-align: top;\n",
       "    }\n",
       "\n",
       "    .dataframe thead th {\n",
       "        text-align: right;\n",
       "    }\n",
       "</style>\n",
       "<table border=\"1\" class=\"dataframe\">\n",
       "  <thead>\n",
       "    <tr style=\"text-align: right;\">\n",
       "      <th></th>\n",
       "      <th>Year</th>\n",
       "      <th>Accident Deaths</th>\n",
       "      <th>Previous Year</th>\n",
       "      <th>YoY %</th>\n",
       "    </tr>\n",
       "  </thead>\n",
       "  <tbody>\n",
       "    <tr>\n",
       "      <th>0</th>\n",
       "      <td>1973</td>\n",
       "      <td>115821</td>\n",
       "      <td>NaN</td>\n",
       "      <td>NaN</td>\n",
       "    </tr>\n",
       "    <tr>\n",
       "      <th>1</th>\n",
       "      <td>1974</td>\n",
       "      <td>104622</td>\n",
       "      <td>115821.0</td>\n",
       "      <td>-9.669231</td>\n",
       "    </tr>\n",
       "    <tr>\n",
       "      <th>2</th>\n",
       "      <td>1975</td>\n",
       "      <td>103030</td>\n",
       "      <td>104622.0</td>\n",
       "      <td>-1.521668</td>\n",
       "    </tr>\n",
       "    <tr>\n",
       "      <th>3</th>\n",
       "      <td>1976</td>\n",
       "      <td>100761</td>\n",
       "      <td>103030.0</td>\n",
       "      <td>-2.202271</td>\n",
       "    </tr>\n",
       "    <tr>\n",
       "      <th>4</th>\n",
       "      <td>1977</td>\n",
       "      <td>102922</td>\n",
       "      <td>100761.0</td>\n",
       "      <td>2.144679</td>\n",
       "    </tr>\n",
       "    <tr>\n",
       "      <th>5</th>\n",
       "      <td>1978</td>\n",
       "      <td>105561</td>\n",
       "      <td>102922.0</td>\n",
       "      <td>2.564078</td>\n",
       "    </tr>\n",
       "  </tbody>\n",
       "</table>\n",
       "</div>"
      ],
      "text/plain": [
       "   Year  Accident Deaths  Previous Year     YoY %\n",
       "0  1973           115821            NaN       NaN\n",
       "1  1974           104622       115821.0 -9.669231\n",
       "2  1975           103030       104622.0 -1.521668\n",
       "3  1976           100761       103030.0 -2.202271\n",
       "4  1977           102922       100761.0  2.144679\n",
       "5  1978           105561       102922.0  2.564078"
      ]
     },
     "execution_count": 123,
     "metadata": {},
     "output_type": "execute_result"
    }
   ],
   "source": [
    "# calculating YoY for accidents (using entire year statistic)\n",
    "df_year['YoY %'] = ((df_year['Accident Deaths']/df_year['Previous Year']) - 1)*100\n",
    "df_year"
   ]
  },
  {
   "cell_type": "code",
   "execution_count": 124,
   "id": "2cfdb656-f726-4631-b390-a1aa52c39333",
   "metadata": {},
   "outputs": [
    {
     "data": {
      "text/plain": [
       "Text(0.5, 1.0, 'YoY % for total Accident Deaths from 1973-1978')"
      ]
     },
     "execution_count": 124,
     "metadata": {},
     "output_type": "execute_result"
    },
    {
     "data": {
      "image/png": "[encoded data removed]",
      "text/plain": [
       "<Figure size 640x480 with 1 Axes>"
      ]
     },
     "metadata": {},
     "output_type": "display_data"
    }
   ],
   "source": [
    "ax2 = df_year.plot.line(x='Year', y='YoY %', marker='o')\n",
    "ax2.set_ylim(-10, 10)\n",
    "ax2.set_title('YoY % for total Accident Deaths from 1973-1978')"
   ]
  },
  {
   "cell_type": "code",
   "execution_count": 126,
   "id": "395ea459-828f-466f-b0be-79699ceca3bb",
   "metadata": {},
   "outputs": [
    {
     "data": {
      "text/html": [
       "<div>\n",
       "<style scoped>\n",
       "    .dataframe tbody tr th:only-of-type {\n",
       "        vertical-align: middle;\n",
       "    }\n",
       "\n",
       "    .dataframe tbody tr th {\n",
       "        vertical-align: top;\n",
       "    }\n",
       "\n",
       "    .dataframe thead th {\n",
       "        text-align: right;\n",
       "    }\n",
       "</style>\n",
       "<table border=\"1\" class=\"dataframe\">\n",
       "  <thead>\n",
       "    <tr style=\"text-align: right;\">\n",
       "      <th>Month</th>\n",
       "      <th>01</th>\n",
       "      <th>02</th>\n",
       "      <th>03</th>\n",
       "      <th>04</th>\n",
       "      <th>05</th>\n",
       "      <th>06</th>\n",
       "      <th>07</th>\n",
       "      <th>08</th>\n",
       "      <th>09</th>\n",
       "      <th>10</th>\n",
       "      <th>11</th>\n",
       "      <th>12</th>\n",
       "    </tr>\n",
       "    <tr>\n",
       "      <th>Year</th>\n",
       "      <th></th>\n",
       "      <th></th>\n",
       "      <th></th>\n",
       "      <th></th>\n",
       "      <th></th>\n",
       "      <th></th>\n",
       "      <th></th>\n",
       "      <th></th>\n",
       "      <th></th>\n",
       "      <th></th>\n",
       "      <th></th>\n",
       "      <th></th>\n",
       "    </tr>\n",
       "  </thead>\n",
       "  <tbody>\n",
       "    <tr>\n",
       "      <th>1973</th>\n",
       "      <td>9007</td>\n",
       "      <td>8106</td>\n",
       "      <td>8928</td>\n",
       "      <td>9137</td>\n",
       "      <td>10017</td>\n",
       "      <td>10826</td>\n",
       "      <td>11317</td>\n",
       "      <td>10744</td>\n",
       "      <td>9713</td>\n",
       "      <td>9938</td>\n",
       "      <td>9161</td>\n",
       "      <td>8927</td>\n",
       "    </tr>\n",
       "    <tr>\n",
       "      <th>1974</th>\n",
       "      <td>7750</td>\n",
       "      <td>6981</td>\n",
       "      <td>8038</td>\n",
       "      <td>8422</td>\n",
       "      <td>8714</td>\n",
       "      <td>9512</td>\n",
       "      <td>10120</td>\n",
       "      <td>9823</td>\n",
       "      <td>8743</td>\n",
       "      <td>9129</td>\n",
       "      <td>8710</td>\n",
       "      <td>8680</td>\n",
       "    </tr>\n",
       "    <tr>\n",
       "      <th>1975</th>\n",
       "      <td>8162</td>\n",
       "      <td>7306</td>\n",
       "      <td>8124</td>\n",
       "      <td>7870</td>\n",
       "      <td>9387</td>\n",
       "      <td>9556</td>\n",
       "      <td>10093</td>\n",
       "      <td>9620</td>\n",
       "      <td>8285</td>\n",
       "      <td>8433</td>\n",
       "      <td>8160</td>\n",
       "      <td>8034</td>\n",
       "    </tr>\n",
       "    <tr>\n",
       "      <th>1976</th>\n",
       "      <td>7717</td>\n",
       "      <td>7461</td>\n",
       "      <td>7776</td>\n",
       "      <td>7925</td>\n",
       "      <td>8634</td>\n",
       "      <td>8945</td>\n",
       "      <td>10078</td>\n",
       "      <td>9179</td>\n",
       "      <td>8037</td>\n",
       "      <td>8488</td>\n",
       "      <td>7874</td>\n",
       "      <td>8647</td>\n",
       "    </tr>\n",
       "    <tr>\n",
       "      <th>1977</th>\n",
       "      <td>7792</td>\n",
       "      <td>6957</td>\n",
       "      <td>7726</td>\n",
       "      <td>8106</td>\n",
       "      <td>8890</td>\n",
       "      <td>9299</td>\n",
       "      <td>10625</td>\n",
       "      <td>9302</td>\n",
       "      <td>8314</td>\n",
       "      <td>8850</td>\n",
       "      <td>8265</td>\n",
       "      <td>8796</td>\n",
       "    </tr>\n",
       "    <tr>\n",
       "      <th>1978</th>\n",
       "      <td>7836</td>\n",
       "      <td>6892</td>\n",
       "      <td>7791</td>\n",
       "      <td>8129</td>\n",
       "      <td>9115</td>\n",
       "      <td>9434</td>\n",
       "      <td>10484</td>\n",
       "      <td>9827</td>\n",
       "      <td>9110</td>\n",
       "      <td>9070</td>\n",
       "      <td>8633</td>\n",
       "      <td>9240</td>\n",
       "    </tr>\n",
       "  </tbody>\n",
       "</table>\n",
       "</div>"
      ],
      "text/plain": [
       "Month    01    02    03    04     05     06     07     08    09    10    11  \\\n",
       "Year                                                                          \n",
       "1973   9007  8106  8928  9137  10017  10826  11317  10744  9713  9938  9161   \n",
       "1974   7750  6981  8038  8422   8714   9512  10120   9823  8743  9129  8710   \n",
       "1975   8162  7306  8124  7870   9387   9556  10093   9620  8285  8433  8160   \n",
       "1976   7717  7461  7776  7925   8634   8945  10078   9179  8037  8488  7874   \n",
       "1977   7792  6957  7726  8106   8890   9299  10625   9302  8314  8850  8265   \n",
       "1978   7836  6892  7791  8129   9115   9434  10484   9827  9110  9070  8633   \n",
       "\n",
       "Month    12  \n",
       "Year         \n",
       "1973   8927  \n",
       "1974   8680  \n",
       "1975   8034  \n",
       "1976   8647  \n",
       "1977   8796  \n",
       "1978   9240  "
      ]
     },
     "execution_count": 126,
     "metadata": {},
     "output_type": "execute_result"
    }
   ],
   "source": [
    "# now, checking for each month from 1973 to 1978\n",
    "df_pivot = df.pivot(index='Year', columns='Month', values='Accident Deaths')\n",
    "df_pivot"
   ]
  },
  {
   "cell_type": "code",
   "execution_count": 130,
   "id": "5fdaedd1-ccbb-48b3-9349-1ff3ac09a5a8",
   "metadata": {},
   "outputs": [
    {
     "data": {
      "text/plain": [
       "Month\n",
       "07    10452.833333\n",
       "Name: Accident Deaths, dtype: float64"
      ]
     },
     "execution_count": 130,
     "metadata": {},
     "output_type": "execute_result"
    }
   ],
   "source": [
    "# checking with months have the most and least number of accident deaths (basis of mean)\n",
    "df.groupby('Month')['Accident Deaths'].mean().sort_values(ascending=False).head(1)"
   ]
  },
  {
   "cell_type": "code",
   "execution_count": 131,
   "id": "a58f4ffa-e500-41aa-9536-a27704b59bdb",
   "metadata": {},
   "outputs": [
    {
     "data": {
      "text/plain": [
       "Month\n",
       "02    7283.833333\n",
       "Name: Accident Deaths, dtype: float64"
      ]
     },
     "execution_count": 131,
     "metadata": {},
     "output_type": "execute_result"
    }
   ],
   "source": [
    "df.groupby('Month')['Accident Deaths'].mean().sort_values().head(1)"
   ]
  },
  {
   "cell_type": "code",
   "execution_count": 132,
   "id": "e28eeff8-beac-49c2-bb6a-0a948b5b5a21",
   "metadata": {},
   "outputs": [
    {
     "data": {
      "text/plain": [
       "Text(0.5, 1.0, 'Accident Death trend for Months across 1973 to 1978')"
      ]
     },
     "execution_count": 132,
     "metadata": {},
     "output_type": "execute_result"
    },
    {
     "data": {
      "image/png": "[encoded data removed]",
      "text/plain": [
       "<Figure size 640x480 with 1 Axes>"
      ]
     },
     "metadata": {},
     "output_type": "display_data"
    }
   ],
   "source": [
    "# plotting trend for each month\n",
    "ax3 = sns.lineplot(data=df_pivot)\n",
    "ax3.legend(bbox_to_anchor=(1, 1))\n",
    "ax3.set_title('Accident Death trend for Months across 1973 to 1978')"
   ]
  },
  {
   "cell_type": "code",
   "execution_count": 134,
   "id": "b2f96c49-ad84-4b6d-978f-d73fb62f5ea6",
   "metadata": {},
   "outputs": [],
   "source": [
    "# as per groupby query, July had most accident deaths on average\n",
    "# February had least accident deaths on average\n",
    "# as per lineplot for trends, July consistently had most accident deaths across all years,\n",
    "# while February consistently had the least"
   ]
  }
 ],
 "metadata": {
  "kernelspec": {
   "display_name": "Python 3 (ipykernel)",
   "language": "python",
   "name": "python3"
  },
  "language_info": {
   "codemirror_mode": {
    "name": "ipython",
    "version": 3
   },
   "file_extension": ".py",
   "mimetype": "text/x-python",
   "name": "python",
   "nbconvert_exporter": "python",
   "pygments_lexer": "ipython3",
   "version": "3.8.2"
  }
 },
 "nbformat": 4,
 "nbformat_minor": 5
}
